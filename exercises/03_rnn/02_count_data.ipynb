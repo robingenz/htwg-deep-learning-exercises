{
 "cells": [
  {
   "attachments": {},
   "cell_type": "markdown",
   "metadata": {
    "colab_type": "text",
    "id": "EIolRLmR2tJc"
   },
   "source": [
    "# Neuronale Netze für Zähldaten \n",
    "\n",
    "Wiederholen Sie die Poisson-Regression für den Fisch-Datensatz, jetzt mit Keras. Aus der vorherigen Übung:\n",
    "\n",
    "-----\n",
    "\n",
    "Der folgende Datensatz enthält die Anzahl der Fische, die eine Gruppe von Campern in einem staatlichen Park gefangen hat (entnommen aus https://stats.idre.ucla.edu/r/dae/zip/). Ihre Aufgabe ist es, die Anzahl der Fische $y$ vorherzusagen, die von einer Gruppe von Anglern gefangen wurden. Wir haben einen kleinen Datensatz von 250 Gruppen, die einen Staatspark besucht und folgende Informationen geliefert haben: \n",
    "\n",
    "* Wie viele Personen in der Gruppe sind\n",
    "* Die Anzahl der Kinder in der Gruppe\n",
    "* Die Verwendung von Lebendködern\n",
    "* Ob die Gruppe mit einem Camper in den Park kam. \n",
    "\n",
    "Teilen Sie den Datensatz in einen Trainingssatz und einen Testsatz auf. Verwenden Sie die ersten 200 Einträge zum Trainieren, die restlichen 50 zum Testen. Siehe unten für den Code zum Lesen der Daten.\n",
    "\n",
    "## Setup\n",
    "\n",
    "### Einbinden von Paketen"
   ]
  },
  {
   "cell_type": "code",
   "execution_count": 64,
   "metadata": {
    "colab": {},
    "colab_type": "code",
    "id": "YsAt_vDL3jFG"
   },
   "outputs": [
    {
     "data": {
      "text/plain": [
       "('1.23.4', '2.11.0', '0.19.0')"
      ]
     },
     "execution_count": 64,
     "metadata": {},
     "output_type": "execute_result"
    }
   ],
   "source": [
    "import matplotlib.pyplot as plt\n",
    "import numpy as np\n",
    "import pandas as pd\n",
    "import random\n",
    "import tensorflow as tf\n",
    "import tensorflow.keras as keras\n",
    "from sklearn.model_selection import train_test_split\n",
    "import tensorflow_probability as tfp\n",
    "\n",
    "np.__version__, tf.__version__, tfp.__version__"
   ]
  },
  {
   "attachments": {},
   "cell_type": "markdown",
   "metadata": {},
   "source": [
    "### Einlesen der Daten"
   ]
  },
  {
   "cell_type": "code",
   "execution_count": 65,
   "metadata": {},
   "outputs": [
    {
     "data": {
      "text/plain": [
       "['Sat Jan 21 19:46:24 UTC 2023']"
      ]
     },
     "execution_count": 65,
     "metadata": {},
     "output_type": "execute_result"
    }
   ],
   "source": [
    "# The Fish Data Set\n",
    "# See example 2 from https://stats.idre.ucla.edu/r/dae/zip/ \n",
    "#\"nofish\",\"livebait\",\"camper\",\"persons\",\"child\",\"xb\",\"zg\",\"count\"\n",
    "import os\n",
    "from urllib.request import urlretrieve\n",
    "if not os.path.isfile('data/fishing.npz'):\n",
    "    print(\"Downloading...\")\n",
    "    urlretrieve('http://www-home.htwg-konstanz.de/~oduerr/data/fishing.npz', filename = 'data/fishing.npz')\n",
    "data = np.load('data/fishing.npz')\n",
    "dateDownloaded = !date #Calling Linux\n",
    "dateDownloaded"
   ]
  },
  {
   "cell_type": "code",
   "execution_count": 66,
   "metadata": {},
   "outputs": [
    {
     "data": {
      "text/html": [
       "<div>\n",
       "<style scoped>\n",
       "    .dataframe tbody tr th:only-of-type {\n",
       "        vertical-align: middle;\n",
       "    }\n",
       "\n",
       "    .dataframe tbody tr th {\n",
       "        vertical-align: top;\n",
       "    }\n",
       "\n",
       "    .dataframe thead th {\n",
       "        text-align: right;\n",
       "    }\n",
       "</style>\n",
       "<table border=\"1\" class=\"dataframe\">\n",
       "  <thead>\n",
       "    <tr style=\"text-align: right;\">\n",
       "      <th></th>\n",
       "      <th>0</th>\n",
       "      <th>1</th>\n",
       "      <th>2</th>\n",
       "      <th>3</th>\n",
       "    </tr>\n",
       "  </thead>\n",
       "  <tbody>\n",
       "    <tr>\n",
       "      <th>0</th>\n",
       "      <td>1.0</td>\n",
       "      <td>0.0</td>\n",
       "      <td>4.0</td>\n",
       "      <td>0.0</td>\n",
       "    </tr>\n",
       "    <tr>\n",
       "      <th>1</th>\n",
       "      <td>1.0</td>\n",
       "      <td>1.0</td>\n",
       "      <td>2.0</td>\n",
       "      <td>0.0</td>\n",
       "    </tr>\n",
       "  </tbody>\n",
       "</table>\n",
       "</div>"
      ],
      "text/plain": [
       "     0    1    2    3\n",
       "0  1.0  0.0  4.0  0.0\n",
       "1  1.0  1.0  2.0  0.0"
      ]
     },
     "execution_count": 66,
     "metadata": {},
     "output_type": "execute_result"
    }
   ],
   "source": [
    "X_train = data['Xt'] #\"livebait\",\"camper\",\"persons\",\"child\"\n",
    "X_test = data['Xte']\n",
    "y_train = data['yt']\n",
    "y_test = data['yte']\n",
    "pd.DataFrame(X_train[0:2])"
   ]
  },
  {
   "cell_type": "markdown",
   "metadata": {
    "colab_type": "text",
    "id": "4-uaG92sPBXg"
   },
   "source": [
    "## Results from the Machine Learning excercise, we had. "
   ]
  },
  {
   "cell_type": "markdown",
   "metadata": {
    "colab_type": "text",
    "id": "_uiqzQZnChZ_"
   },
   "source": [
    "### LinearRegression"
   ]
  },
  {
   "cell_type": "code",
   "execution_count": 67,
   "metadata": {
    "colab": {
     "base_uri": "https://localhost:8080/",
     "height": 34
    },
    "colab_type": "code",
    "id": "lFLrY1YtNClk",
    "outputId": "d7779272-1b27-4096-e4ec-697001f2bc7e"
   },
   "outputs": [
    {
     "data": {
      "text/plain": [
       "array([-8.49222821,  2.4822138 ,  2.95430727,  4.64953914, -5.47160051])"
      ]
     },
     "execution_count": 67,
     "metadata": {},
     "output_type": "execute_result"
    }
   ],
   "source": [
    "from sklearn.linear_model import LinearRegression\n",
    "Xd = np.hstack([np.ones((X_train.shape[0],1)), X_train])\n",
    "pd.DataFrame(Xd[0:2])\n",
    "Xdt = np.hstack([np.ones((X_test.shape[0],1)), X_test])\n",
    "X_train.shape,Xd.shape\n",
    "model_skl = LinearRegression(fit_intercept=False)\n",
    "res = model_skl.fit(Xd, y_train)\n",
    "res.coef_"
   ]
  },
  {
   "attachments": {},
   "cell_type": "markdown",
   "metadata": {
    "colab_type": "text",
    "id": "pNIUUugxPmSZ"
   },
   "source": [
    "#### RMSE und NLL\n",
    "Bestimmen Sie den mittleren quadratischen Fehler (Root Mean Square Error, RMSE) und die durchschnittliche negative Log-Likelihood (NLL) für den Testsatz. Für die NLL wird angenommen, dass die bedingte Wahrscheinlichkeitsverteilung (CPD) $p(y|x)$ durch die Dichte eines Gauß mit konstanter Varianz $\\sigma^2$ gegeben ist. Schätzen Sie $\\sigma^2$ anhand der Varianz der Residuen. Verwenden Sie die Varianzschätzung mit $1/N$. \n"
   ]
  },
  {
   "cell_type": "code",
   "execution_count": 68,
   "metadata": {
    "colab": {
     "base_uri": "https://localhost:8080/",
     "height": 34
    },
    "colab_type": "code",
    "id": "hmtWgh0xPYca",
    "outputId": "44bf40a7-3fab-4e7a-9eee-6cc466a1980a"
   },
   "outputs": [
    {
     "data": {
      "text/plain": [
       "(8.588126386734231, 73.75591483452077, (50, 5))"
      ]
     },
     "execution_count": 68,
     "metadata": {},
     "output_type": "execute_result"
    }
   ],
   "source": [
    "ypred = model_skl.predict(Xdt)\n",
    "#ypred = np.ones_like(y_test) * np.median(y_train)\n",
    "sigma_hat_2 = np.mean((y_test - ypred.flatten())**2)\n",
    "np.sqrt(sigma_hat_2),sigma_hat_2,Xdt.shape"
   ]
  },
  {
   "cell_type": "code",
   "execution_count": 69,
   "metadata": {
    "colab": {
     "base_uri": "https://localhost:8080/",
     "height": 34
    },
    "colab_type": "code",
    "id": "MLg_A70-QbJr",
    "outputId": "a57c6bb0-cd23-44d1-bf60-2656a62a3ceb"
   },
   "outputs": [
    {
     "data": {
      "text/plain": [
       "3.5693191297796893"
      ]
     },
     "execution_count": 69,
     "metadata": {},
     "output_type": "execute_result"
    }
   ],
   "source": [
    "0.5*np.log(2 * np.pi * sigma_hat_2) + 0.5*np.mean((y_test - ypred.flatten())**2)/sigma_hat_2"
   ]
  },
  {
   "attachments": {},
   "cell_type": "markdown",
   "metadata": {
    "colab_type": "text",
    "id": "PLl18uW6D507"
   },
   "source": [
    "#### Vergleich mit Testsatz\n",
    "\n",
    "Für den Testsatz: Stellen Sie den Mittelwert der vorhergesagten Anzahl der gefangenen Fische gegen die beobachtete Anzahl der gefangenen Fische. Fügen Sie außerdem das 2,5- und 97,25-Präzentil von p(y|x), der bedingten Vorhersageverteilung (CPD) von $y$ für ein gegebenes $x$, ein. Warum ist ein Gauß nicht ideal für diese Art von Daten? Für den Gauß sind das 2,5% und das 97,5% Perzentil näherungsweise gegeben durch $\\mu \\pm 1,96*\\sigma$"
   ]
  },
  {
   "cell_type": "code",
   "execution_count": 70,
   "metadata": {
    "colab": {
     "base_uri": "https://localhost:8080/",
     "height": 295
    },
    "colab_type": "code",
    "id": "f51ByX5wSjPa",
    "outputId": "2fce8f60-ebdb-493a-f3a9-6950c7f0bae0"
   },
   "outputs": [
    {
     "data": {
      "image/png": "[encoded data removed]",
      "text/plain": [
       "<Figure size 640x480 with 1 Axes>"
      ]
     },
     "metadata": {},
     "output_type": "display_data"
    }
   ],
   "source": [
    "plt.scatter(ypred, y_test,alpha=0.3)\n",
    "sort_idx=np.argsort(ypred,axis=0)\n",
    "plt.plot(ypred[sort_idx].flatten(), ypred[sort_idx].flatten()+1.96*np.sqrt(sigma_hat_2),linestyle='dashed',c=\"black\")\n",
    "plt.plot(ypred[sort_idx].flatten(), ypred[sort_idx].flatten()-1.96*np.sqrt(sigma_hat_2),linestyle='dashed',c=\"black\")\n",
    "plt.plot(ypred, ypred, c=\"black\")\n",
    "plt.title('Comparison on the testset')\n",
    "plt.xlabel('predicted average of caught fish')\n",
    "plt.ylabel('observed number of caught fish')\n",
    "plt.xlim(-5,15)\n",
    "plt.ylim(-5,15)\n",
    "plt.show()"
   ]
  },
  {
   "attachments": {},
   "cell_type": "markdown",
   "metadata": {
    "colab_type": "text",
    "id": "XXsavhRVU4BJ"
   },
   "source": [
    "### Poisson\n",
    "\n",
    "Bei diesen Daten handelt es sich um Zähldaten. Zähldaten haben nur positive Werte und auch die Verteilung ist diskret. Man kann nicht 0,5 Fische fangen, und dass die CPD eine Wahrscheinlichkeit für eine negative Anzahl von Fischen hat, ist auch nicht ganz richtig. Eine Gauß-Verteilung als CPD ist daher nicht ideal. Verwenden Sie nun eine Poisson-Verteilung als CPD. Wenn wir eine Poisson-Verteilung annehmen, dann ist die Wahrscheinlichkeit, $k$ Fische zu fangen, gegeben durch \n",
    "$$\n",
    "  p(k) = \\exp(-\\mu) \\frac{\\mu^k}{k!}\n",
    "$$\n",
    "\n",
    "und die NLL somit durch:\n",
    "\n",
    "$$\n",
    " log(p(k)) = -\\mu + k \\cdot \\log(\\mu) - log(k!)\n",
    "$$\n",
    "\n",
    "wobei $\\mu$ der Erwartungswert ist. In unserem Fall ist das die durchschnittliche Anzahl der erwarteten Fische.\n",
    "\n",
    "Bei der probabilistischen Interpretation der linearen Regression ist $y_i$ für ein gegebenes $x_i$ wie ein Gauß verteilt. Der Parameter $\\mu_i$ aus $N(\\mu_i,\\sigma^2)$ ist aus $x_i$ über $\\mu_i= \\beta^T \\cdot x_i$ bestimmt worden. Da $\\mu_i$ in der Poissonschen bekannt ist, muss es positiv sein. Wir leiten daher $\\beta^T \\cdot x_i$ zunächst durch ein Exponential, um es positiv zu machen, und können so $\\mu_i=exp(\\beta^T \\cdot x_i)$ bestimmen.\n",
    "\n",
    "Verwenden Sie einen Gradientenabstiegsansatz, um die Lösung für die Parameter zu finden. Berechnen Sie den RMSE und die NLL für die Testmenge.\n",
    "\n",
    "Hinweis: Auf dem Trainingsset sollte die NLL für die Parameterwerte (1,1,1,1,1) ca. 1508 betragen und der Gradient "
   ]
  },
  {
   "cell_type": "code",
   "execution_count": 71,
   "metadata": {
    "colab": {
     "base_uri": "https://localhost:8080/",
     "height": 34
    },
    "colab_type": "code",
    "id": "HL_GpshBU4BJ",
    "outputId": "1560dedc-f3e6-4455-f474-b90e0c150657"
   },
   "outputs": [
    {
     "data": {
      "text/plain": [
       "1507.9856602262082"
      ]
     },
     "execution_count": 71,
     "metadata": {},
     "output_type": "execute_result"
    }
   ],
   "source": [
    "def NLL(y_train, Xd, w):\n",
    "    mu = np.exp(np.matmul(Xd,w))\n",
    "    ret = np.zeros_like(mu)\n",
    "    for i in range(ret.shape[0]):\n",
    "        ret[i] = mu[i] - y_train[i]*np.log(mu[i]) + np.log(1.0*np.math.factorial(int(y_train[i])))\n",
    "    return np.mean(ret)\n",
    "w = np.ones(5)\n",
    "NLL(y_train, Xd,w)"
   ]
  },
  {
   "cell_type": "code",
   "execution_count": 72,
   "metadata": {
    "colab": {
     "base_uri": "https://localhost:8080/",
     "height": 34
    },
    "colab_type": "code",
    "id": "LwpfoYG-U4BL",
    "outputId": "3cf4dd06-24bf-417e-dbb3-679193216af5"
   },
   "outputs": [
    {
     "data": {
      "text/plain": [
       "array([-1518.61, -1403.99, -1171.02, -5701.91, -3258.7 ])"
      ]
     },
     "execution_count": 72,
     "metadata": {},
     "output_type": "execute_result"
    }
   ],
   "source": [
    "def gradNLL(y_train, Xd, w):\n",
    "    mu = np.exp(np.matmul(Xd,w))\n",
    "    #print(mu.shape)\n",
    "    ret = np.zeros_like(Xd)\n",
    "    for i in range(Xd.shape[0]):\n",
    "        mux = Xd[i] * mu[i]\n",
    "        ret[i] = -mux + y_train[i] *Xd[i]\n",
    "    return np.mean(ret, axis=0)\n",
    "\n",
    "NLL(y_train, Xd,np.ones(5))\n",
    "np.round(gradNLL(y_train, Xd,np.ones(5)),2)\n",
    "#1518.61, 1403.99, 1171.02, 5701.91, 3258.7"
   ]
  },
  {
   "cell_type": "code",
   "execution_count": 73,
   "metadata": {
    "colab": {
     "base_uri": "https://localhost:8080/",
     "height": 68
    },
    "colab_type": "code",
    "id": "DjXqvYyqU4BN",
    "outputId": "5184b8fa-b50a-436c-c8a1-8c831306fc26"
   },
   "outputs": [
    {
     "name": "stderr",
     "output_type": "stream",
     "text": [
      "100%|██████████| 10000/10000 [00:05<00:00, 1740.76it/s]\n"
     ]
    },
    {
     "data": {
      "text/plain": [
       "(array([-1.74007527,  0.56500613,  0.66091814,  0.93220074, -1.62023821]),\n",
       " 3.3806067025761606)"
      ]
     },
     "execution_count": 73,
     "metadata": {},
     "output_type": "execute_result"
    }
   ],
   "source": [
    "from tqdm import tqdm \n",
    "w = np.ones(5)\n",
    "hist = []\n",
    "for i in tqdm(range(10000)):\n",
    "    if (i % 10 == 0):\n",
    "        hist.append(NLL(y_train, Xd,w))\n",
    "    w = w + 0.001 * gradNLL(y_train, Xd,w)\n",
    "w, NLL(y_train, Xd,w)"
   ]
  },
  {
   "cell_type": "code",
   "execution_count": 74,
   "metadata": {
    "colab": {
     "base_uri": "https://localhost:8080/",
     "height": 286
    },
    "colab_type": "code",
    "id": "tRV1sLkQU4BO",
    "outputId": "88b17695-3df7-49c9-ce6b-87f30da200ed"
   },
   "outputs": [
    {
     "data": {
      "text/plain": [
       "(0.0, 5.0)"
      ]
     },
     "execution_count": 74,
     "metadata": {},
     "output_type": "execute_result"
    },
    {
     "data": {
      "image/png": "[encoded data removed]",
      "text/plain": [
       "<Figure size 640x480 with 1 Axes>"
      ]
     },
     "metadata": {},
     "output_type": "display_data"
    }
   ],
   "source": [
    "plt.plot(hist)\n",
    "plt.ylim(0,5)"
   ]
  },
  {
   "cell_type": "code",
   "execution_count": 75,
   "metadata": {
    "colab": {
     "base_uri": "https://localhost:8080/",
     "height": 34
    },
    "colab_type": "code",
    "id": "j-HhXc7GU4BQ",
    "outputId": "d2743421-6e15-4202-9b28-a02fb7d3d842"
   },
   "outputs": [
    {
     "name": "stdout",
     "output_type": "stream",
     "text": [
      "7.389176645536159\n",
      "2.8768358338221574\n"
     ]
    }
   ],
   "source": [
    "mupred = np.exp(np.matmul(Xdt, w))\n",
    "np.sqrt(np.mean((mupred - y_test)**2)), NLL(y_test, Xdt,w)\n",
    "RMSE_sk =np.sqrt(np.mean((mupred - y_test)**2))\n",
    "NLL_sk = NLL(y_test, Xdt,w)\n",
    "print(RMSE_sk)\n",
    "print(NLL_sk)\n",
    "\n",
    "df2 = pd.DataFrame(\n",
    "         { 'RMSE' : RMSE_sk, 'MAE' : None, 'NLL' : NLL_sk}, index=['Poisson Regression (Grad_decent)']\n",
    ")"
   ]
  },
  {
   "attachments": {},
   "cell_type": "markdown",
   "metadata": {
    "colab_type": "text",
    "id": "rtumKjuJEVKE"
   },
   "source": [
    "## A) Poisson-Regression unter Verwendung eines mit Keras erstellten NN\n",
    "\n",
    "Wiederholen Sie die Analyse von oben mit Keras. Sie können (müssen aber nicht) tfp verwenden."
   ]
  },
  {
   "cell_type": "code",
   "execution_count": 76,
   "metadata": {
    "colab": {},
    "colab_type": "code",
    "id": "z4hUQh2aHFje"
   },
   "outputs": [],
   "source": [
    "plt.style.use('default')\n",
    "\n",
    "tfd = tfp.distributions\n",
    "tfb = tfp.bijectors\n",
    "\n",
    "np.random.seed(42)\n",
    "tf.random.set_seed(42)"
   ]
  },
  {
   "cell_type": "code",
   "execution_count": 77,
   "metadata": {},
   "outputs": [
    {
     "name": "stdout",
     "output_type": "stream",
     "text": [
      "Model: \"model_3\"\n",
      "_________________________________________________________________\n",
      " Layer (type)                Output Shape              Param #   \n",
      "=================================================================\n",
      " input_3 (InputLayer)        [(None, 4)]               0         \n",
      "                                                                 \n",
      " dense_2 (Dense)             (None, 1)                 5         \n",
      "                                                                 \n",
      " distribution_lambda_2 (Dist  ((None, 1),              0         \n",
      " ributionLambda)              (None, 1))                         \n",
      "                                                                 \n",
      "=================================================================\n",
      "Total params: 5\n",
      "Trainable params: 5\n",
      "Non-trainable params: 0\n",
      "_________________________________________________________________\n"
     ]
    }
   ],
   "source": [
    "from keras import Sequential, Model\n",
    "from keras.layers import Dense, Input \n",
    "from keras.optimizers import Adam\n",
    "\n",
    "inputs = Input(shape=(X_train.shape[1],))  \n",
    "rate = Dense(1, activation=tf.exp)(inputs) # Definition of a single layer with one output\n",
    "p_y = tfp.layers.DistributionLambda(tfd.Poisson)(rate) # We use exponential of the output to model the rate \n",
    "\n",
    "# Glueing the NN and the output layer together. Note that output p_y is a tf.distribution\n",
    "model_p = Model(inputs=inputs, outputs=p_y) \n",
    "\n",
    "# The second argument is the output of the model and thus a tfp-distribution. It's as simple as calling log_prob to calculate the log-probability of the observation that is needed to calculate the NLL.\n",
    "def NLL(y_true, y_hat): \n",
    "  return -y_hat.log_prob(y_true)\n",
    "\n",
    "model_p.compile(Adam(learning_rate=0.01), loss=NLL)\n",
    "model_p.summary()"
   ]
  },
  {
   "cell_type": "code",
   "execution_count": 78,
   "metadata": {},
   "outputs": [],
   "source": [
    "hist_p = model_p.fit(x=X_train, y=y_train, validation_data=(X_test, y_test), epochs=2000, verbose=0)"
   ]
  },
  {
   "cell_type": "code",
   "execution_count": 79,
   "metadata": {},
   "outputs": [
    {
     "data": {
      "image/png": "[encoded data removed]",
      "text/plain": [
       "<Figure size 640x480 with 1 Axes>"
      ]
     },
     "metadata": {},
     "output_type": "display_data"
    }
   ],
   "source": [
    "plt.plot(hist_p.history['loss'])\n",
    "plt.plot(hist_p.history['val_loss'])\n",
    "plt.legend(['loss', 'val_loss'])\n",
    "plt.xlabel('Epochs')\n",
    "plt.show()"
   ]
  },
  {
   "cell_type": "code",
   "execution_count": 80,
   "metadata": {},
   "outputs": [
    {
     "name": "stdout",
     "output_type": "stream",
     "text": [
      "2/2 [==============================] - 0s 2ms/step\n",
      "2/2 [==============================] - 0s 2ms/step - loss: 2.7010\n"
     ]
    },
    {
     "data": {
      "text/html": [
       "<div>\n",
       "<style scoped>\n",
       "    .dataframe tbody tr th:only-of-type {\n",
       "        vertical-align: middle;\n",
       "    }\n",
       "\n",
       "    .dataframe tbody tr th {\n",
       "        vertical-align: top;\n",
       "    }\n",
       "\n",
       "    .dataframe thead th {\n",
       "        text-align: right;\n",
       "    }\n",
       "</style>\n",
       "<table border=\"1\" class=\"dataframe\">\n",
       "  <thead>\n",
       "    <tr style=\"text-align: right;\">\n",
       "      <th></th>\n",
       "      <th>RMSE</th>\n",
       "      <th>MAE</th>\n",
       "      <th>NLL</th>\n",
       "    </tr>\n",
       "  </thead>\n",
       "  <tbody>\n",
       "    <tr>\n",
       "      <th>Poisson Regression (Grad_decent)</th>\n",
       "      <td>7.389177</td>\n",
       "      <td>NaN</td>\n",
       "      <td>2.876836</td>\n",
       "    </tr>\n",
       "    <tr>\n",
       "      <th>Poisson Regression (TFP)</th>\n",
       "      <td>6.243396</td>\n",
       "      <td>2.86</td>\n",
       "      <td>2.700972</td>\n",
       "    </tr>\n",
       "  </tbody>\n",
       "</table>\n",
       "</div>"
      ],
      "text/plain": [
       "                                      RMSE   MAE       NLL\n",
       "Poisson Regression (Grad_decent)  7.389177   NaN  2.876836\n",
       "Poisson Regression (TFP)          6.243396  2.86  2.700972"
      ]
     },
     "execution_count": 80,
     "metadata": {},
     "output_type": "execute_result"
    }
   ],
   "source": [
    "model = Model(inputs=inputs, outputs=p_y) \n",
    "y_hat_test = model.predict(X_test).flatten()\n",
    "\n",
    "\n",
    "rmse=np.sqrt(np.mean((y_test - y_hat_test)**2))\n",
    "mae=np.mean(np.abs(y_test - y_hat_test)) \n",
    "\n",
    "NLL = model_p.evaluate(X_test, y_test) #returns the NLL \n",
    "\n",
    "df3 = pd.DataFrame(\n",
    "         { 'RMSE' : rmse, 'MAE' : mae, 'NLL' : NLL}, index=['Poisson Regression (TFP)']\n",
    ")\n",
    "pd.concat([df2,df3])"
   ]
  },
  {
   "cell_type": "code",
   "execution_count": 81,
   "metadata": {},
   "outputs": [
    {
     "data": {
      "text/plain": [
       "[<matplotlib.lines.Line2D at 0xffff103d0160>]"
      ]
     },
     "execution_count": 81,
     "metadata": {},
     "output_type": "execute_result"
    },
    {
     "data": {
      "image/png": "[encoded data removed]",
      "text/plain": [
       "<Figure size 1200x600 with 1 Axes>"
      ]
     },
     "metadata": {},
     "output_type": "display_data"
    }
   ],
   "source": [
    "from scipy.stats import poisson\n",
    "lower=poisson.ppf(0.025, y_hat_test)\n",
    "upper=poisson.ppf(0.975, y_hat_test)\n",
    "\n",
    "plt.figure(figsize=(12,6))\n",
    "plt.subplot(1,2,1)\n",
    "plt.scatter(y_hat_test, y_test, alpha=0.3)\n",
    "plt.title('Comparison on the testset')\n",
    "plt.xlabel('predicted average of caught fish')\n",
    "plt.ylabel('observed number of caught fish')\n",
    "plt.plot(y_hat_test[np.argsort(y_hat_test,axis=0)].flatten(), lower[np.argsort(y_hat_test,axis=0)],linestyle='dashed',c=\"black\")\n",
    "plt.plot(y_hat_test[np.argsort(y_hat_test,axis=0)].flatten(), upper[np.argsort(y_hat_test,axis=0)],linestyle='dashed',c=\"black\")\n",
    "plt.plot(y_hat_test, y_hat_test, c=\"black\")"
   ]
  }
 ],
 "metadata": {
  "colab": {
   "collapsed_sections": [],
   "name": "Fish_Poisson_Keras.ipynb",
   "provenance": [],
   "toc_visible": true
  },
  "kernelspec": {
   "display_name": "Python 3",
   "language": "python",
   "name": "python3"
  },
  "language_info": {
   "codemirror_mode": {
    "name": "ipython",
    "version": 3
   },
   "file_extension": ".py",
   "mimetype": "text/x-python",
   "name": "python",
   "nbconvert_exporter": "python",
   "pygments_lexer": "ipython3",
   "version": "3.10.8"
  },
  "vscode": {
   "interpreter": {
    "hash": "949777d72b0d2535278d3dc13498b2535136f6dfe0678499012e853ee9abcab1"
   }
  }
 },
 "nbformat": 4,
 "nbformat_minor": 1
}
